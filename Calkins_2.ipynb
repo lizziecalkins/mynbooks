{
 "cells": [
  {
   "cell_type": "markdown",
   "id": "4c962b56-8ee3-45a9-b41e-8d8fd7f5523b",
   "metadata": {},
   "source": [
    "# Chapter 2 Assignment"
   ]
  },
  {
   "cell_type": "markdown",
   "id": "fe9a1749-4708-4222-a3d9-2f21d5a5d390",
   "metadata": {},
   "source": [
    "## Elizabeth Calkins"
   ]
  },
  {
   "cell_type": "code",
   "execution_count": 10,
   "id": "ee2258b8-da3d-4209-b8d5-042375ea701a",
   "metadata": {},
   "outputs": [],
   "source": [
    "import pandas as pd"
   ]
  },
  {
   "cell_type": "code",
   "execution_count": 12,
   "id": "7995dda6-693b-49a3-98dc-ea80ee62eafd",
   "metadata": {},
   "outputs": [
    {
     "name": "stdout",
     "output_type": "stream",
     "text": [
      "               Brand                                            Variety Style  \\\n",
      "0          New Touch                          T's Restaurant Tantanmen    Cup   \n",
      "1           Just Way  Noodles Spicy Hot Sesame Spicy Hot Sesame Guan...  Pack   \n",
      "2             Nissin                      Cup Noodles Chicken Vegetable   Cup   \n",
      "3            Wei Lih                      GGE Ramen Snack Tomato Flavor  Pack   \n",
      "4     Ching's Secret                                    Singapore Curry  Pack   \n",
      "...              ...                                                ...   ...   \n",
      "2572           Vifon  Hu Tiu Nam Vang [\"Phnom Penh\" style] Asian Sty...  Bowl   \n",
      "2573         Wai Wai                     Oriental Style Instant Noodles  Pack   \n",
      "2574         Wai Wai                                     Tom Yum Shrimp  Pack   \n",
      "2575         Wai Wai                               Tom Yum Chili Flavor  Pack   \n",
      "2576        Westbrae                                         Miso Ramen  Pack   \n",
      "\n",
      "       Country  Stars  \n",
      "0        Japan   3.75  \n",
      "1       Taiwan   1.00  \n",
      "2          USA   2.25  \n",
      "3       Taiwan   2.75  \n",
      "4        India   3.75  \n",
      "...        ...    ...  \n",
      "2572   Vietnam   3.50  \n",
      "2573  Thailand   1.00  \n",
      "2574  Thailand   2.00  \n",
      "2575  Thailand   2.00  \n",
      "2576       USA   0.50  \n",
      "\n",
      "[2577 rows x 5 columns]\n"
     ]
    }
   ],
   "source": [
    "ramen = pd.read_csv('ramen-ratings.csv')\n",
    "print(ramen)"
   ]
  },
  {
   "cell_type": "code",
   "execution_count": 14,
   "id": "abe6ef27-4267-402b-a093-88fb3d0074a7",
   "metadata": {},
   "outputs": [
    {
     "data": {
      "text/html": [
       "<div>\n",
       "<style scoped>\n",
       "    .dataframe tbody tr th:only-of-type {\n",
       "        vertical-align: middle;\n",
       "    }\n",
       "\n",
       "    .dataframe tbody tr th {\n",
       "        vertical-align: top;\n",
       "    }\n",
       "\n",
       "    .dataframe thead th {\n",
       "        text-align: right;\n",
       "    }\n",
       "</style>\n",
       "<table border=\"1\" class=\"dataframe\">\n",
       "  <thead>\n",
       "    <tr style=\"text-align: right;\">\n",
       "      <th></th>\n",
       "      <th>Brand</th>\n",
       "      <th>Variety</th>\n",
       "      <th>Style</th>\n",
       "      <th>Country</th>\n",
       "      <th>Stars</th>\n",
       "    </tr>\n",
       "  </thead>\n",
       "  <tbody>\n",
       "    <tr>\n",
       "      <th>0</th>\n",
       "      <td>New Touch</td>\n",
       "      <td>T's Restaurant Tantanmen</td>\n",
       "      <td>Cup</td>\n",
       "      <td>Japan</td>\n",
       "      <td>3.75</td>\n",
       "    </tr>\n",
       "    <tr>\n",
       "      <th>1</th>\n",
       "      <td>Just Way</td>\n",
       "      <td>Noodles Spicy Hot Sesame Spicy Hot Sesame Guan...</td>\n",
       "      <td>Pack</td>\n",
       "      <td>Taiwan</td>\n",
       "      <td>1.00</td>\n",
       "    </tr>\n",
       "    <tr>\n",
       "      <th>2</th>\n",
       "      <td>Nissin</td>\n",
       "      <td>Cup Noodles Chicken Vegetable</td>\n",
       "      <td>Cup</td>\n",
       "      <td>USA</td>\n",
       "      <td>2.25</td>\n",
       "    </tr>\n",
       "    <tr>\n",
       "      <th>3</th>\n",
       "      <td>Wei Lih</td>\n",
       "      <td>GGE Ramen Snack Tomato Flavor</td>\n",
       "      <td>Pack</td>\n",
       "      <td>Taiwan</td>\n",
       "      <td>2.75</td>\n",
       "    </tr>\n",
       "    <tr>\n",
       "      <th>4</th>\n",
       "      <td>Ching's Secret</td>\n",
       "      <td>Singapore Curry</td>\n",
       "      <td>Pack</td>\n",
       "      <td>India</td>\n",
       "      <td>3.75</td>\n",
       "    </tr>\n",
       "  </tbody>\n",
       "</table>\n",
       "</div>"
      ],
      "text/plain": [
       "            Brand                                            Variety Style  \\\n",
       "0       New Touch                          T's Restaurant Tantanmen    Cup   \n",
       "1        Just Way  Noodles Spicy Hot Sesame Spicy Hot Sesame Guan...  Pack   \n",
       "2          Nissin                      Cup Noodles Chicken Vegetable   Cup   \n",
       "3         Wei Lih                      GGE Ramen Snack Tomato Flavor  Pack   \n",
       "4  Ching's Secret                                    Singapore Curry  Pack   \n",
       "\n",
       "  Country  Stars  \n",
       "0   Japan   3.75  \n",
       "1  Taiwan   1.00  \n",
       "2     USA   2.25  \n",
       "3  Taiwan   2.75  \n",
       "4   India   3.75  "
      ]
     },
     "execution_count": 14,
     "metadata": {},
     "output_type": "execute_result"
    }
   ],
   "source": [
    "ramen.head()"
   ]
  },
  {
   "cell_type": "code",
   "execution_count": 16,
   "id": "c217588f-f2ef-4ab1-8b90-5b6b233ed498",
   "metadata": {},
   "outputs": [
    {
     "data": {
      "text/html": [
       "<div>\n",
       "<style scoped>\n",
       "    .dataframe tbody tr th:only-of-type {\n",
       "        vertical-align: middle;\n",
       "    }\n",
       "\n",
       "    .dataframe tbody tr th {\n",
       "        vertical-align: top;\n",
       "    }\n",
       "\n",
       "    .dataframe thead th {\n",
       "        text-align: right;\n",
       "    }\n",
       "</style>\n",
       "<table border=\"1\" class=\"dataframe\">\n",
       "  <thead>\n",
       "    <tr style=\"text-align: right;\">\n",
       "      <th></th>\n",
       "      <th>Brand</th>\n",
       "      <th>Variety</th>\n",
       "      <th>Style</th>\n",
       "      <th>Country</th>\n",
       "      <th>Stars</th>\n",
       "    </tr>\n",
       "  </thead>\n",
       "  <tbody>\n",
       "    <tr>\n",
       "      <th>2572</th>\n",
       "      <td>Vifon</td>\n",
       "      <td>Hu Tiu Nam Vang [\"Phnom Penh\" style] Asian Sty...</td>\n",
       "      <td>Bowl</td>\n",
       "      <td>Vietnam</td>\n",
       "      <td>3.5</td>\n",
       "    </tr>\n",
       "    <tr>\n",
       "      <th>2573</th>\n",
       "      <td>Wai Wai</td>\n",
       "      <td>Oriental Style Instant Noodles</td>\n",
       "      <td>Pack</td>\n",
       "      <td>Thailand</td>\n",
       "      <td>1.0</td>\n",
       "    </tr>\n",
       "    <tr>\n",
       "      <th>2574</th>\n",
       "      <td>Wai Wai</td>\n",
       "      <td>Tom Yum Shrimp</td>\n",
       "      <td>Pack</td>\n",
       "      <td>Thailand</td>\n",
       "      <td>2.0</td>\n",
       "    </tr>\n",
       "    <tr>\n",
       "      <th>2575</th>\n",
       "      <td>Wai Wai</td>\n",
       "      <td>Tom Yum Chili Flavor</td>\n",
       "      <td>Pack</td>\n",
       "      <td>Thailand</td>\n",
       "      <td>2.0</td>\n",
       "    </tr>\n",
       "    <tr>\n",
       "      <th>2576</th>\n",
       "      <td>Westbrae</td>\n",
       "      <td>Miso Ramen</td>\n",
       "      <td>Pack</td>\n",
       "      <td>USA</td>\n",
       "      <td>0.5</td>\n",
       "    </tr>\n",
       "  </tbody>\n",
       "</table>\n",
       "</div>"
      ],
      "text/plain": [
       "         Brand                                            Variety Style  \\\n",
       "2572     Vifon  Hu Tiu Nam Vang [\"Phnom Penh\" style] Asian Sty...  Bowl   \n",
       "2573   Wai Wai                     Oriental Style Instant Noodles  Pack   \n",
       "2574   Wai Wai                                     Tom Yum Shrimp  Pack   \n",
       "2575   Wai Wai                               Tom Yum Chili Flavor  Pack   \n",
       "2576  Westbrae                                         Miso Ramen  Pack   \n",
       "\n",
       "       Country  Stars  \n",
       "2572   Vietnam    3.5  \n",
       "2573  Thailand    1.0  \n",
       "2574  Thailand    2.0  \n",
       "2575  Thailand    2.0  \n",
       "2576       USA    0.5  "
      ]
     },
     "execution_count": 16,
     "metadata": {},
     "output_type": "execute_result"
    }
   ],
   "source": [
    "ramen.tail()"
   ]
  },
  {
   "cell_type": "code",
   "execution_count": 18,
   "id": "fe27fec5-3593-4d90-bd51-8a4e0030b861",
   "metadata": {},
   "outputs": [
    {
     "data": {
      "text/html": [
       "<div>\n",
       "<style scoped>\n",
       "    .dataframe tbody tr th:only-of-type {\n",
       "        vertical-align: middle;\n",
       "    }\n",
       "\n",
       "    .dataframe tbody tr th {\n",
       "        vertical-align: top;\n",
       "    }\n",
       "\n",
       "    .dataframe thead th {\n",
       "        text-align: right;\n",
       "    }\n",
       "</style>\n",
       "<table border=\"1\" class=\"dataframe\">\n",
       "  <thead>\n",
       "    <tr style=\"text-align: right;\">\n",
       "      <th></th>\n",
       "      <th>Stars</th>\n",
       "    </tr>\n",
       "  </thead>\n",
       "  <tbody>\n",
       "    <tr>\n",
       "      <th>count</th>\n",
       "      <td>2577.000000</td>\n",
       "    </tr>\n",
       "    <tr>\n",
       "      <th>mean</th>\n",
       "      <td>3.654676</td>\n",
       "    </tr>\n",
       "    <tr>\n",
       "      <th>std</th>\n",
       "      <td>1.015331</td>\n",
       "    </tr>\n",
       "    <tr>\n",
       "      <th>min</th>\n",
       "      <td>0.000000</td>\n",
       "    </tr>\n",
       "    <tr>\n",
       "      <th>25%</th>\n",
       "      <td>3.250000</td>\n",
       "    </tr>\n",
       "    <tr>\n",
       "      <th>50%</th>\n",
       "      <td>3.750000</td>\n",
       "    </tr>\n",
       "    <tr>\n",
       "      <th>75%</th>\n",
       "      <td>4.250000</td>\n",
       "    </tr>\n",
       "    <tr>\n",
       "      <th>max</th>\n",
       "      <td>5.000000</td>\n",
       "    </tr>\n",
       "  </tbody>\n",
       "</table>\n",
       "</div>"
      ],
      "text/plain": [
       "             Stars\n",
       "count  2577.000000\n",
       "mean      3.654676\n",
       "std       1.015331\n",
       "min       0.000000\n",
       "25%       3.250000\n",
       "50%       3.750000\n",
       "75%       4.250000\n",
       "max       5.000000"
      ]
     },
     "execution_count": 18,
     "metadata": {},
     "output_type": "execute_result"
    }
   ],
   "source": [
    "ramen.describe()"
   ]
  },
  {
   "cell_type": "code",
   "execution_count": 20,
   "id": "0c020d1d-db4b-4de1-87f9-ade80683fb01",
   "metadata": {},
   "outputs": [
    {
     "data": {
      "text/plain": [
       "Brand       355\n",
       "Variety    2410\n",
       "Style         7\n",
       "Country      38\n",
       "Stars        42\n",
       "dtype: int64"
      ]
     },
     "execution_count": 20,
     "metadata": {},
     "output_type": "execute_result"
    }
   ],
   "source": [
    "ramen.nunique()"
   ]
  },
  {
   "cell_type": "code",
   "execution_count": 22,
   "id": "77299c0c-08dd-417c-83bc-cb1893dbc063",
   "metadata": {},
   "outputs": [
    {
     "data": {
      "text/html": [
       "<div>\n",
       "<style scoped>\n",
       "    .dataframe tbody tr th:only-of-type {\n",
       "        vertical-align: middle;\n",
       "    }\n",
       "\n",
       "    .dataframe tbody tr th {\n",
       "        vertical-align: top;\n",
       "    }\n",
       "\n",
       "    .dataframe thead th {\n",
       "        text-align: right;\n",
       "    }\n",
       "</style>\n",
       "<table border=\"1\" class=\"dataframe\">\n",
       "  <thead>\n",
       "    <tr style=\"text-align: right;\">\n",
       "      <th></th>\n",
       "      <th>Brand</th>\n",
       "      <th>Variety</th>\n",
       "      <th>Style</th>\n",
       "      <th>Country</th>\n",
       "      <th>Stars</th>\n",
       "    </tr>\n",
       "  </thead>\n",
       "  <tbody>\n",
       "    <tr>\n",
       "      <th>18</th>\n",
       "      <td>Binh Tay</td>\n",
       "      <td>Mi Hai Cua</td>\n",
       "      <td>Pack</td>\n",
       "      <td>Vietnam</td>\n",
       "      <td>4.00</td>\n",
       "    </tr>\n",
       "    <tr>\n",
       "      <th>52</th>\n",
       "      <td>Uni-President</td>\n",
       "      <td>Mushroom Flavor</td>\n",
       "      <td>Pack</td>\n",
       "      <td>Vietnam</td>\n",
       "      <td>0.00</td>\n",
       "    </tr>\n",
       "    <tr>\n",
       "      <th>143</th>\n",
       "      <td>Mum Ngon</td>\n",
       "      <td>Lau Tom Chua Cay</td>\n",
       "      <td>Pack</td>\n",
       "      <td>Vietnam</td>\n",
       "      <td>3.50</td>\n",
       "    </tr>\n",
       "    <tr>\n",
       "      <th>224</th>\n",
       "      <td>Vifon</td>\n",
       "      <td>Viet Cuisine Bun Rieu Cua Sour Crab Soup Insta...</td>\n",
       "      <td>Bowl</td>\n",
       "      <td>Vietnam</td>\n",
       "      <td>5.00</td>\n",
       "    </tr>\n",
       "    <tr>\n",
       "      <th>365</th>\n",
       "      <td>Acecook</td>\n",
       "      <td>Oh! Ricey Pork Flavour</td>\n",
       "      <td>Pack</td>\n",
       "      <td>Vietnam</td>\n",
       "      <td>4.00</td>\n",
       "    </tr>\n",
       "    <tr>\n",
       "      <th>...</th>\n",
       "      <td>...</td>\n",
       "      <td>...</td>\n",
       "      <td>...</td>\n",
       "      <td>...</td>\n",
       "      <td>...</td>\n",
       "    </tr>\n",
       "    <tr>\n",
       "      <th>2486</th>\n",
       "      <td>Binh Tay</td>\n",
       "      <td>Mi Chay Mushroom</td>\n",
       "      <td>Pack</td>\n",
       "      <td>Vietnam</td>\n",
       "      <td>2.75</td>\n",
       "    </tr>\n",
       "    <tr>\n",
       "      <th>2535</th>\n",
       "      <td>Ve Wong</td>\n",
       "      <td>Kung-Fu Chicken Flavor</td>\n",
       "      <td>Pack</td>\n",
       "      <td>Vietnam</td>\n",
       "      <td>2.75</td>\n",
       "    </tr>\n",
       "    <tr>\n",
       "      <th>2570</th>\n",
       "      <td>Ve Wong</td>\n",
       "      <td>Mushroom Pork</td>\n",
       "      <td>Pack</td>\n",
       "      <td>Vietnam</td>\n",
       "      <td>1.00</td>\n",
       "    </tr>\n",
       "    <tr>\n",
       "      <th>2571</th>\n",
       "      <td>Vifon</td>\n",
       "      <td>Nam Vang</td>\n",
       "      <td>Pack</td>\n",
       "      <td>Vietnam</td>\n",
       "      <td>2.50</td>\n",
       "    </tr>\n",
       "    <tr>\n",
       "      <th>2572</th>\n",
       "      <td>Vifon</td>\n",
       "      <td>Hu Tiu Nam Vang [\"Phnom Penh\" style] Asian Sty...</td>\n",
       "      <td>Bowl</td>\n",
       "      <td>Vietnam</td>\n",
       "      <td>3.50</td>\n",
       "    </tr>\n",
       "  </tbody>\n",
       "</table>\n",
       "<p>108 rows × 5 columns</p>\n",
       "</div>"
      ],
      "text/plain": [
       "              Brand                                            Variety Style  \\\n",
       "18         Binh Tay                                         Mi Hai Cua  Pack   \n",
       "52    Uni-President                                    Mushroom Flavor  Pack   \n",
       "143        Mum Ngon                                   Lau Tom Chua Cay  Pack   \n",
       "224           Vifon  Viet Cuisine Bun Rieu Cua Sour Crab Soup Insta...  Bowl   \n",
       "365         Acecook                             Oh! Ricey Pork Flavour  Pack   \n",
       "...             ...                                                ...   ...   \n",
       "2486       Binh Tay                                   Mi Chay Mushroom  Pack   \n",
       "2535        Ve Wong                             Kung-Fu Chicken Flavor  Pack   \n",
       "2570        Ve Wong                                      Mushroom Pork  Pack   \n",
       "2571          Vifon                                           Nam Vang  Pack   \n",
       "2572          Vifon  Hu Tiu Nam Vang [\"Phnom Penh\" style] Asian Sty...  Bowl   \n",
       "\n",
       "      Country  Stars  \n",
       "18    Vietnam   4.00  \n",
       "52    Vietnam   0.00  \n",
       "143   Vietnam   3.50  \n",
       "224   Vietnam   5.00  \n",
       "365   Vietnam   4.00  \n",
       "...       ...    ...  \n",
       "2486  Vietnam   2.75  \n",
       "2535  Vietnam   2.75  \n",
       "2570  Vietnam   1.00  \n",
       "2571  Vietnam   2.50  \n",
       "2572  Vietnam   3.50  \n",
       "\n",
       "[108 rows x 5 columns]"
      ]
     },
     "execution_count": 22,
     "metadata": {},
     "output_type": "execute_result"
    }
   ],
   "source": [
    "ramen[ramen['Country'] == 'Vietnam']"
   ]
  },
  {
   "cell_type": "code",
   "execution_count": 26,
   "id": "6267cc5d-1fdb-4793-95a4-5539042e9098",
   "metadata": {},
   "outputs": [
    {
     "data": {
      "text/html": [
       "<div>\n",
       "<style scoped>\n",
       "    .dataframe tbody tr th:only-of-type {\n",
       "        vertical-align: middle;\n",
       "    }\n",
       "\n",
       "    .dataframe tbody tr th {\n",
       "        vertical-align: top;\n",
       "    }\n",
       "\n",
       "    .dataframe thead th {\n",
       "        text-align: right;\n",
       "    }\n",
       "</style>\n",
       "<table border=\"1\" class=\"dataframe\">\n",
       "  <thead>\n",
       "    <tr style=\"text-align: right;\">\n",
       "      <th></th>\n",
       "      <th>Brand</th>\n",
       "      <th>Style</th>\n",
       "    </tr>\n",
       "  </thead>\n",
       "  <tbody>\n",
       "    <tr>\n",
       "      <th>0</th>\n",
       "      <td>New Touch</td>\n",
       "      <td>Cup</td>\n",
       "    </tr>\n",
       "    <tr>\n",
       "      <th>1</th>\n",
       "      <td>Just Way</td>\n",
       "      <td>Pack</td>\n",
       "    </tr>\n",
       "    <tr>\n",
       "      <th>2</th>\n",
       "      <td>Nissin</td>\n",
       "      <td>Cup</td>\n",
       "    </tr>\n",
       "    <tr>\n",
       "      <th>3</th>\n",
       "      <td>Wei Lih</td>\n",
       "      <td>Pack</td>\n",
       "    </tr>\n",
       "    <tr>\n",
       "      <th>4</th>\n",
       "      <td>Ching's Secret</td>\n",
       "      <td>Pack</td>\n",
       "    </tr>\n",
       "    <tr>\n",
       "      <th>...</th>\n",
       "      <td>...</td>\n",
       "      <td>...</td>\n",
       "    </tr>\n",
       "    <tr>\n",
       "      <th>2572</th>\n",
       "      <td>Vifon</td>\n",
       "      <td>Bowl</td>\n",
       "    </tr>\n",
       "    <tr>\n",
       "      <th>2573</th>\n",
       "      <td>Wai Wai</td>\n",
       "      <td>Pack</td>\n",
       "    </tr>\n",
       "    <tr>\n",
       "      <th>2574</th>\n",
       "      <td>Wai Wai</td>\n",
       "      <td>Pack</td>\n",
       "    </tr>\n",
       "    <tr>\n",
       "      <th>2575</th>\n",
       "      <td>Wai Wai</td>\n",
       "      <td>Pack</td>\n",
       "    </tr>\n",
       "    <tr>\n",
       "      <th>2576</th>\n",
       "      <td>Westbrae</td>\n",
       "      <td>Pack</td>\n",
       "    </tr>\n",
       "  </tbody>\n",
       "</table>\n",
       "<p>2577 rows × 2 columns</p>\n",
       "</div>"
      ],
      "text/plain": [
       "               Brand Style\n",
       "0          New Touch   Cup\n",
       "1           Just Way  Pack\n",
       "2             Nissin   Cup\n",
       "3            Wei Lih  Pack\n",
       "4     Ching's Secret  Pack\n",
       "...              ...   ...\n",
       "2572           Vifon  Bowl\n",
       "2573         Wai Wai  Pack\n",
       "2574         Wai Wai  Pack\n",
       "2575         Wai Wai  Pack\n",
       "2576        Westbrae  Pack\n",
       "\n",
       "[2577 rows x 2 columns]"
      ]
     },
     "execution_count": 26,
     "metadata": {},
     "output_type": "execute_result"
    }
   ],
   "source": [
    "ramen[['Brand','Style']]"
   ]
  },
  {
   "cell_type": "code",
   "execution_count": 32,
   "id": "83bf0877-3c68-42bb-b3b9-56f2c4ae1f59",
   "metadata": {},
   "outputs": [
    {
     "data": {
      "text/plain": [
       "0          Japan\n",
       "1         Taiwan\n",
       "2            USA\n",
       "3         Taiwan\n",
       "4          India\n",
       "          ...   \n",
       "2572     Vietnam\n",
       "2573    Thailand\n",
       "2574    Thailand\n",
       "2575    Thailand\n",
       "2576         USA\n",
       "Name: Country, Length: 2577, dtype: object"
      ]
     },
     "execution_count": 32,
     "metadata": {},
     "output_type": "execute_result"
    }
   ],
   "source": [
    "ramen.loc[:,'Country']"
   ]
  },
  {
   "cell_type": "code",
   "execution_count": 34,
   "id": "ac702eb4-e5d1-4ad5-b82d-21f1de69f6bd",
   "metadata": {},
   "outputs": [],
   "source": [
    "sorted_ramen = ramen.sort_values('Stars',ascending=False)"
   ]
  },
  {
   "cell_type": "code",
   "execution_count": 36,
   "id": "26e68072-f45d-4a47-88ac-7e34cae16bf1",
   "metadata": {},
   "outputs": [
    {
     "name": "stdout",
     "output_type": "stream",
     "text": [
      "            Brand                                            Variety Style  \\\n",
      "0       New Touch                          T's Restaurant Tantanmen    Cup   \n",
      "1        Just Way  Noodles Spicy Hot Sesame Spicy Hot Sesame Guan...  Pack   \n",
      "2          Nissin                      Cup Noodles Chicken Vegetable   Cup   \n",
      "3         Wei Lih                      GGE Ramen Snack Tomato Flavor  Pack   \n",
      "4  Ching's Secret                                    Singapore Curry  Pack   \n",
      "\n",
      "         Country  Stars  \n",
      "0          Japan   3.75  \n",
      "1         Taiwan   1.00  \n",
      "2  United States   2.25  \n",
      "3         Taiwan   2.75  \n",
      "4          India   3.75  \n"
     ]
    }
   ],
   "source": [
    "ramen.Country.replace({'USA':'United States'}, inplace=True)\n",
    "print(ramen.head())"
   ]
  },
  {
   "cell_type": "code",
   "execution_count": 38,
   "id": "e93c470f-799c-48a2-a650-aa6e2801ec3f",
   "metadata": {},
   "outputs": [
    {
     "name": "stdout",
     "output_type": "stream",
     "text": [
      "Number of Countries Represented in Data: 37\n"
     ]
    }
   ],
   "source": [
    "num_countries = ramen.Country.nunique()\n",
    "print(f'Number of Countries Represented in Data: {num_countries}')"
   ]
  },
  {
   "cell_type": "code",
   "execution_count": 40,
   "id": "d0138337-a88d-41f5-9cef-3d7c7e6fec5c",
   "metadata": {},
   "outputs": [
    {
     "name": "stdout",
     "output_type": "stream",
     "text": [
      "               Stars\n"
     ]
    },
    {
     "data": {
      "text/plain": [
       "Country\n",
       "Brazil      4.350000\n",
       "Sarawak     4.333333\n",
       "Cambodia    4.200000\n",
       "Name: Stars, dtype: float64"
      ]
     },
     "execution_count": 40,
     "metadata": {},
     "output_type": "execute_result"
    }
   ],
   "source": [
    "print(f'{'Stars':>20}')\n",
    "ramen. groupby ('Country') ['Stars'].mean().sort_values(ascending = False). head (3)"
   ]
  },
  {
   "cell_type": "code",
   "execution_count": 44,
   "id": "6b663658-cb46-4d82-84cf-4b555ed8323c",
   "metadata": {},
   "outputs": [
    {
     "name": "stdout",
     "output_type": "stream",
     "text": [
      "                  Stars\n"
     ]
    },
    {
     "data": {
      "text/plain": [
       "Country\n",
       "Nigeria        1.500000\n",
       "Canada         2.243902\n",
       "Netherlands    2.483333\n",
       "Name: Stars, dtype: float64"
      ]
     },
     "execution_count": 44,
     "metadata": {},
     "output_type": "execute_result"
    }
   ],
   "source": [
    "print(f'{'Stars':>23}')\n",
    "ramen.groupby('Country' )['Stars'].mean().sort_values(ascending = True).head(3)"
   ]
  },
  {
   "cell_type": "code",
   "execution_count": 46,
   "id": "24d3bd3a-f883-4f94-8ea3-e4a3ebbe86dc",
   "metadata": {},
   "outputs": [
    {
     "name": "stdout",
     "output_type": "stream",
     "text": [
      "                  Stars\n",
      "CPU times: user 3.33 ms, sys: 799 μs, total: 4.13 ms\n",
      "Wall time: 3.38 ms\n"
     ]
    },
    {
     "data": {
      "text/plain": [
       "Country\n",
       "Nigeria        1.500000\n",
       "Canada         2.243902\n",
       "Netherlands    2.483333\n",
       "Name: Stars, dtype: float64"
      ]
     },
     "execution_count": 46,
     "metadata": {},
     "output_type": "execute_result"
    }
   ],
   "source": [
    "%%time\n",
    "print(f'{'Stars':>23}')\n",
    "ramen.groupby('Country' )['Stars'].mean().sort_values(ascending = True).head(3)"
   ]
  },
  {
   "cell_type": "code",
   "execution_count": null,
   "id": "2c590907-136e-47eb-8c97-7b913d88ed48",
   "metadata": {},
   "outputs": [],
   "source": []
  }
 ],
 "metadata": {
  "kernelspec": {
   "display_name": "Python 3 (ipykernel)",
   "language": "python",
   "name": "python3"
  },
  "language_info": {
   "codemirror_mode": {
    "name": "ipython",
    "version": 3
   },
   "file_extension": ".py",
   "mimetype": "text/x-python",
   "name": "python",
   "nbconvert_exporter": "python",
   "pygments_lexer": "ipython3",
   "version": "3.12.7"
  }
 },
 "nbformat": 4,
 "nbformat_minor": 5
}
